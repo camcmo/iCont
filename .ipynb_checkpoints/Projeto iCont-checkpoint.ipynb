{
 "cells": [
  {
   "cell_type": "code",
   "execution_count": 13,
   "id": "eb7d56d7",
   "metadata": {},
   "outputs": [],
   "source": [
    "def opcoes():\n",
    "    opcoes = input(\"Digite a opção desejada: (1/2)\")\n",
    "    if(opcoes == \"1\"):\n",
    "        subtri()\n",
    "    elif(opcoes == \"2\"):\n",
    "        cfop()\n",
    "        \n",
    "def subtri():\n",
    "    ncm = input(\"Digite o NCM dos produtos:\")\n",
    "    entr_prod = input(\"Entre com o valor dos produtos(Ex.: R$1200.00). R$: \")\n",
    "    vlprod = float(entr_prod)\n",
    "    outr_vl = input(\"Existem outros valores a serem considerados (S/N)? (Ex.: Despesas Acessórias, Frete, etc)\")\n",
    "    if(outr_vl == \"S\"):\n",
    "        vl_desp = input(\"Despesas Acessórias: \")\n",
    "        vl_desp_int = float(vl_desp)\n",
    "        vl_frete = input(\"Frete: \")\n",
    "        vl_frete_int = float(vl_frete)\n",
    "        vl_ipi = input(\"Valor do IPI: \")\n",
    "        vl_ipi_int = float(vl_ipi)\n",
    "        vl_seguro = input(\"Valor do Seguro: \")\n",
    "        vl_seguro_int = float(vl_seguro)\n",
    "        vl_desconto = input(\"Valor do Desconto: \")\n",
    "        vl_desconto_int = float(vl_desconto)\n",
    "        base_produtos = vlprod + vl_desp_int + vl_ipi_int + vl_seguro_int - vl_desconto_int\n",
    "        operacao = input(\"Digite o tipo de Operação (I - Interna / E - Interestadual)\")\n",
    "        if(operacao == \"I\"):\n",
    "            mva_original = input(\"Digite o valor da MVA Original:\")\n",
    "            mva_original_int = float(mva_original)\n",
    "            aliquota = input(\"Digite o valor da alíquota interna de ICMS:\")\n",
    "            aliquota_int = float(aliquota)\n",
    "            vl_icms = input(\"Digite o valor do ICMS dos produtos:\")\n",
    "            vl_icms_int = float(vl_icms)\n",
    "            base_st = base_produtos * ( 1 + (mva_original_int/100))\n",
    "            icms_st = (base_st * (aliquota_int / 100)) - vl_icms_int\n",
    "            print(\"NCM:\", ncm, \"\\n O valor da Base de Cálculo de ST é:\", base_st , \"\\n O valor de ST a recolher é:\", icms_st)\n",
    "        elif(operacao == \"E\"):\n",
    "            mva_ajustada = input(\"Digite o valor da MVA Original:\")\n",
    "            mva_ajustada_int = float(mva_ajustada)\n",
    "            aliquota = input(\"Digite o valor da alíquota interna de ICMS:\")\n",
    "            aliquota_int = float(aliquota)\n",
    "            vl_icms = input(\"Digite o valor do ICMS dos produtos:\")\n",
    "            vl_icms_int = float(vl_icms)\n",
    "            base_st = base_produtos * ( 1 + (mva_ajustada_int/100))\n",
    "            icms_st = (base_st * (aliquota_int / 100)) - vl_icms_int\n",
    "            print(\"NCM:\", ncm, \"\\n O valor da Base de Cálculo de ST é:\", base_st , \"\\n O valor de ST a recolher é:\", icms_st)\n",
    "        else:\n",
    "            print(\"Opção inválida, tente novamente (I/E)\")\n",
    "    elif(outr_vl == \"N\"):\n",
    "        operacao = input(\"Digite o tipo de Operação (I - Interna / E - Interestadual)\")\n",
    "        if(operacao == \"I\"):\n",
    "            mva_original = input(\"Digite o valor da MVA Original:\")\n",
    "            mva_original_int = float(mva_original)\n",
    "            aliquota = input(\"Digite o valor da alíquota interna de ICMS:\")\n",
    "            aliquota_int = float(aliquota)\n",
    "            vl_icms = input(\"Digite o valor do ICMS dos produtos:\")\n",
    "            vl_icms_int = float(vl_icms)\n",
    "            base_st = vlprod * ( 1 + (mva_original_int/100))\n",
    "            icms_st = (base_st_int * (aliquota_int / 100)) - vl_icms_int\n",
    "            print(\"NCM:\", ncm, \"\\n O valor da Base de Cálculo de ST é:\", base_st , \"\\n O valor de ST a recolher é:\", icms_st)\n",
    "        elif(operacao == \"E\"):\n",
    "            mva_ajustada = input(\"Digite o valor da MVA Ajustada:\")\n",
    "            mva_ajustada_int = float(mva_ajustada)\n",
    "            aliquota = input(\"Digite o valor da alíquota interna de ICMS:\")\n",
    "            aliquota_int = float(aliquota)\n",
    "            vl_icms = input(\"Digite o valor do ICMS dos produtos:\")\n",
    "            vl_icms_int = float(vl_icms)\n",
    "            base_st = vlprod * ( 1 + (mva_original_int/100))\n",
    "            icms_st = (base_st * (aliquota_int / 100)) - vl_icms_int\n",
    "            print(\"NCM:\", ncm, \"\\n O valor da Base de Cálculo de ST é:\", base_st , \"\\n O valor de ST a recolher é:\", icms_st)\n",
    "        else:\n",
    "            print(\"Opção inválida, tente novamente (I/E)\")\n",
    "            subtri()\n",
    "    else:\n",
    "        print(\"Opção inválida, tente novamente (S/N)\")\n",
    "        subtri()\n",
    "    "
   ]
  },
  {
   "cell_type": "code",
   "execution_count": 15,
   "id": "0b81c896",
   "metadata": {},
   "outputs": [
    {
     "name": "stdout",
     "output_type": "stream",
     "text": [
      "********************iCont - Suporte Contábil*******************\n",
      "Escolha uma das opções:\n",
      "1 - Calculadora de Substituição Tributária\n",
      "2 - Consulta de CFOP\n",
      "Digite a opção desejada: (1/2)1\n",
      "Digite o NCM dos produtos:4\n",
      "Entre com o valor dos produtos: R$1200.52\n"
     ]
    },
    {
     "ename": "KeyboardInterrupt",
     "evalue": "Interrupted by user",
     "output_type": "error",
     "traceback": [
      "\u001b[1;31m---------------------------------------------------------------------------\u001b[0m",
      "\u001b[1;31mKeyboardInterrupt\u001b[0m                         Traceback (most recent call last)",
      "\u001b[1;32m~\\AppData\\Local\\Temp\\ipykernel_1108\\2647688188.py\u001b[0m in \u001b[0;36m<module>\u001b[1;34m\u001b[0m\n\u001b[0;32m      3\u001b[0m \u001b[0mprint\u001b[0m\u001b[1;33m(\u001b[0m\u001b[1;34m\"1 - Calculadora de Substituição Tributária\"\u001b[0m\u001b[1;33m)\u001b[0m\u001b[1;33m\u001b[0m\u001b[1;33m\u001b[0m\u001b[0m\n\u001b[0;32m      4\u001b[0m \u001b[0mprint\u001b[0m\u001b[1;33m(\u001b[0m\u001b[1;34m\"2 - Consulta de CFOP\"\u001b[0m\u001b[1;33m)\u001b[0m\u001b[1;33m\u001b[0m\u001b[1;33m\u001b[0m\u001b[0m\n\u001b[1;32m----> 5\u001b[1;33m \u001b[0mopcoes\u001b[0m\u001b[1;33m(\u001b[0m\u001b[1;33m)\u001b[0m\u001b[1;33m\u001b[0m\u001b[1;33m\u001b[0m\u001b[0m\n\u001b[0m",
      "\u001b[1;32m~\\AppData\\Local\\Temp\\ipykernel_1108\\2342709615.py\u001b[0m in \u001b[0;36mopcoes\u001b[1;34m()\u001b[0m\n\u001b[0;32m      2\u001b[0m     \u001b[0mopcoes\u001b[0m \u001b[1;33m=\u001b[0m \u001b[0minput\u001b[0m\u001b[1;33m(\u001b[0m\u001b[1;34m\"Digite a opção desejada: (1/2)\"\u001b[0m\u001b[1;33m)\u001b[0m\u001b[1;33m\u001b[0m\u001b[1;33m\u001b[0m\u001b[0m\n\u001b[0;32m      3\u001b[0m     \u001b[1;32mif\u001b[0m\u001b[1;33m(\u001b[0m\u001b[0mopcoes\u001b[0m \u001b[1;33m==\u001b[0m \u001b[1;34m\"1\"\u001b[0m\u001b[1;33m)\u001b[0m\u001b[1;33m:\u001b[0m\u001b[1;33m\u001b[0m\u001b[1;33m\u001b[0m\u001b[0m\n\u001b[1;32m----> 4\u001b[1;33m         \u001b[0msubtri\u001b[0m\u001b[1;33m(\u001b[0m\u001b[1;33m)\u001b[0m\u001b[1;33m\u001b[0m\u001b[1;33m\u001b[0m\u001b[0m\n\u001b[0m\u001b[0;32m      5\u001b[0m     \u001b[1;32melif\u001b[0m\u001b[1;33m(\u001b[0m\u001b[0mopcoes\u001b[0m \u001b[1;33m==\u001b[0m \u001b[1;34m\"2\"\u001b[0m\u001b[1;33m)\u001b[0m\u001b[1;33m:\u001b[0m\u001b[1;33m\u001b[0m\u001b[1;33m\u001b[0m\u001b[0m\n\u001b[0;32m      6\u001b[0m         \u001b[0mcfop\u001b[0m\u001b[1;33m(\u001b[0m\u001b[1;33m)\u001b[0m\u001b[1;33m\u001b[0m\u001b[1;33m\u001b[0m\u001b[0m\n",
      "\u001b[1;32m~\\AppData\\Local\\Temp\\ipykernel_1108\\2342709615.py\u001b[0m in \u001b[0;36msubtri\u001b[1;34m()\u001b[0m\n\u001b[0;32m     10\u001b[0m     \u001b[0mentr_prod\u001b[0m \u001b[1;33m=\u001b[0m \u001b[0minput\u001b[0m\u001b[1;33m(\u001b[0m\u001b[1;34m\"Entre com o valor dos produtos: R$\"\u001b[0m\u001b[1;33m)\u001b[0m\u001b[1;33m\u001b[0m\u001b[1;33m\u001b[0m\u001b[0m\n\u001b[0;32m     11\u001b[0m     \u001b[0mvlprod\u001b[0m \u001b[1;33m=\u001b[0m \u001b[0mfloat\u001b[0m\u001b[1;33m(\u001b[0m\u001b[0mentr_prod\u001b[0m\u001b[1;33m)\u001b[0m\u001b[1;33m\u001b[0m\u001b[1;33m\u001b[0m\u001b[0m\n\u001b[1;32m---> 12\u001b[1;33m     \u001b[0moutr_vl\u001b[0m \u001b[1;33m=\u001b[0m \u001b[0minput\u001b[0m\u001b[1;33m(\u001b[0m\u001b[1;34m\"Existem outros valores a serem considerados (S/N)? (Ex.: Despesas Acessórias, Frete, etc)\"\u001b[0m\u001b[1;33m)\u001b[0m\u001b[1;33m\u001b[0m\u001b[1;33m\u001b[0m\u001b[0m\n\u001b[0m\u001b[0;32m     13\u001b[0m     \u001b[1;32mif\u001b[0m\u001b[1;33m(\u001b[0m\u001b[0moutr_vl\u001b[0m \u001b[1;33m==\u001b[0m \u001b[1;34m\"S\"\u001b[0m\u001b[1;33m)\u001b[0m\u001b[1;33m:\u001b[0m\u001b[1;33m\u001b[0m\u001b[1;33m\u001b[0m\u001b[0m\n\u001b[0;32m     14\u001b[0m         \u001b[0mvl_desp\u001b[0m \u001b[1;33m=\u001b[0m \u001b[0minput\u001b[0m\u001b[1;33m(\u001b[0m\u001b[1;34m\"Despesas Acessórias: \"\u001b[0m\u001b[1;33m)\u001b[0m\u001b[1;33m\u001b[0m\u001b[1;33m\u001b[0m\u001b[0m\n",
      "\u001b[1;32m~\\anaconda3\\lib\\site-packages\\ipykernel\\kernelbase.py\u001b[0m in \u001b[0;36mraw_input\u001b[1;34m(self, prompt)\u001b[0m\n\u001b[0;32m   1175\u001b[0m                 \u001b[1;34m\"raw_input was called, but this frontend does not support input requests.\"\u001b[0m\u001b[1;33m\u001b[0m\u001b[1;33m\u001b[0m\u001b[0m\n\u001b[0;32m   1176\u001b[0m             )\n\u001b[1;32m-> 1177\u001b[1;33m         return self._input_request(\n\u001b[0m\u001b[0;32m   1178\u001b[0m             \u001b[0mstr\u001b[0m\u001b[1;33m(\u001b[0m\u001b[0mprompt\u001b[0m\u001b[1;33m)\u001b[0m\u001b[1;33m,\u001b[0m\u001b[1;33m\u001b[0m\u001b[1;33m\u001b[0m\u001b[0m\n\u001b[0;32m   1179\u001b[0m             \u001b[0mself\u001b[0m\u001b[1;33m.\u001b[0m\u001b[0m_parent_ident\u001b[0m\u001b[1;33m[\u001b[0m\u001b[1;34m\"shell\"\u001b[0m\u001b[1;33m]\u001b[0m\u001b[1;33m,\u001b[0m\u001b[1;33m\u001b[0m\u001b[1;33m\u001b[0m\u001b[0m\n",
      "\u001b[1;32m~\\anaconda3\\lib\\site-packages\\ipykernel\\kernelbase.py\u001b[0m in \u001b[0;36m_input_request\u001b[1;34m(self, prompt, ident, parent, password)\u001b[0m\n\u001b[0;32m   1217\u001b[0m             \u001b[1;32mexcept\u001b[0m \u001b[0mKeyboardInterrupt\u001b[0m\u001b[1;33m:\u001b[0m\u001b[1;33m\u001b[0m\u001b[1;33m\u001b[0m\u001b[0m\n\u001b[0;32m   1218\u001b[0m                 \u001b[1;31m# re-raise KeyboardInterrupt, to truncate traceback\u001b[0m\u001b[1;33m\u001b[0m\u001b[1;33m\u001b[0m\u001b[0m\n\u001b[1;32m-> 1219\u001b[1;33m                 \u001b[1;32mraise\u001b[0m \u001b[0mKeyboardInterrupt\u001b[0m\u001b[1;33m(\u001b[0m\u001b[1;34m\"Interrupted by user\"\u001b[0m\u001b[1;33m)\u001b[0m \u001b[1;32mfrom\u001b[0m \u001b[1;32mNone\u001b[0m\u001b[1;33m\u001b[0m\u001b[1;33m\u001b[0m\u001b[0m\n\u001b[0m\u001b[0;32m   1220\u001b[0m             \u001b[1;32mexcept\u001b[0m \u001b[0mException\u001b[0m\u001b[1;33m:\u001b[0m\u001b[1;33m\u001b[0m\u001b[1;33m\u001b[0m\u001b[0m\n\u001b[0;32m   1221\u001b[0m                 \u001b[0mself\u001b[0m\u001b[1;33m.\u001b[0m\u001b[0mlog\u001b[0m\u001b[1;33m.\u001b[0m\u001b[0mwarning\u001b[0m\u001b[1;33m(\u001b[0m\u001b[1;34m\"Invalid Message:\"\u001b[0m\u001b[1;33m,\u001b[0m \u001b[0mexc_info\u001b[0m\u001b[1;33m=\u001b[0m\u001b[1;32mTrue\u001b[0m\u001b[1;33m)\u001b[0m\u001b[1;33m\u001b[0m\u001b[1;33m\u001b[0m\u001b[0m\n",
      "\u001b[1;31mKeyboardInterrupt\u001b[0m: Interrupted by user"
     ]
    }
   ],
   "source": [
    "print(\"********************iCont - Suporte Contábil*******************\")\n",
    "print(\"Escolha uma das opções:\")\n",
    "print(\"1 - Calculadora de Substituição Tributária\")\n",
    "print(\"2 - Consulta de CFOP\")\n",
    "opcoes()"
   ]
  },
  {
   "cell_type": "code",
   "execution_count": null,
   "id": "f901b08e",
   "metadata": {},
   "outputs": [],
   "source": []
  },
  {
   "cell_type": "code",
   "execution_count": null,
   "id": "d1daa2ac",
   "metadata": {},
   "outputs": [],
   "source": []
  },
  {
   "cell_type": "code",
   "execution_count": null,
   "id": "e7b7a688",
   "metadata": {},
   "outputs": [],
   "source": []
  }
 ],
 "metadata": {
  "kernelspec": {
   "display_name": "Python 3 (ipykernel)",
   "language": "python",
   "name": "python3"
  },
  "language_info": {
   "codemirror_mode": {
    "name": "ipython",
    "version": 3
   },
   "file_extension": ".py",
   "mimetype": "text/x-python",
   "name": "python",
   "nbconvert_exporter": "python",
   "pygments_lexer": "ipython3",
   "version": "3.9.13"
  }
 },
 "nbformat": 4,
 "nbformat_minor": 5
}
